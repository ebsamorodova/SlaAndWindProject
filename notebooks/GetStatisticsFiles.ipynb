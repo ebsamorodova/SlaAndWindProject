{
 "cells": [
  {
   "cell_type": "code",
   "execution_count": 2,
   "metadata": {},
   "outputs": [],
   "source": [
    "import pandas as pd\n",
    "import numpy as np\n",
    "import random\n",
    "import matplotlib.pyplot as plt\n",
    "\n",
    "SUBSET_LEN = 11\n",
    "SHIFT_RECORDS = 16 # конец выборки + 6\n",
    "storm_wind_speed = 10\n",
    "DPI = 80\n",
    "FIGSIZE, FIGSIZE_LONG = (10, 6), (12, 6)\n",
    "plt.rc('xtick', labelsize=20)\n",
    "plt.rc('ytick', labelsize=20)\n",
    "plt.rc('legend', fontsize=20)\n",
    "plt.rc('axes', labelsize=20)"
   ]
  },
  {
   "cell_type": "code",
   "execution_count": 21,
   "metadata": {},
   "outputs": [],
   "source": [
    "source_subsets_df = pd.read_csv(\"source_subsets_{}.csv\".format(storm_wind_speed), index_col=0)\n",
    "N_subsets = len(source_subsets_df)"
   ]
  },
  {
   "cell_type": "code",
   "execution_count": 22,
   "metadata": {},
   "outputs": [
    {
     "name": "stdout",
     "output_type": "stream",
     "text": [
      "10 130140 122492 112221 93799 458652\n"
     ]
    },
    {
     "data": {
      "text/plain": [
       "True"
      ]
     },
     "execution_count": 22,
     "metadata": {},
     "output_type": "execute_result"
    }
   ],
   "source": [
    "mask_4_7 = (source_subsets_df.count_storm == 4) & (source_subsets_df.count_calm == 7)\n",
    "fraq_4_7 = len(source_subsets_df[mask_4_7])\n",
    "mask_5_6 = (source_subsets_df.count_storm == 5) & (source_subsets_df.count_calm == 6)\n",
    "fraq_5_6 = len(source_subsets_df[mask_5_6])\n",
    "mask_6_5 = (source_subsets_df.count_storm == 6) & (source_subsets_df.count_calm == 5)\n",
    "fraq_6_5 = len(source_subsets_df[mask_6_5])\n",
    "mask_7_4 = (source_subsets_df.count_storm == 7) & (source_subsets_df.count_calm == 4)\n",
    "fraq_7_4 = len(source_subsets_df[mask_7_4])\n",
    "\n",
    "p1 = fraq_4_7 / N_subsets # вероятность распределение дней как (4, 7)\n",
    "p2 = fraq_5_6 / N_subsets # вероятность распределение дней как (5, 6)\n",
    "p3 = fraq_6_5 / N_subsets # вероятность распределение дней как (6, 5)\n",
    "p4 = fraq_7_4 / N_subsets # вероятность распределение дней как (7, 4)\n",
    "\n",
    "storm_days_cnt = np.array([4, 5, 6, 7])\n",
    "storm_days_proba = np.array([p1, p2, p3, p4]) \n",
    "\n",
    "print(storm_wind_speed, fraq_4_7, fraq_5_6, fraq_6_5, fraq_7_4, N_subsets)\n",
    "(fraq_4_7 + fraq_5_6 + fraq_6_5 + fraq_7_4) == N_subsets"
   ]
  },
  {
   "cell_type": "code",
   "execution_count": null,
   "metadata": {},
   "outputs": [],
   "source": [
    "def getRandomSubsetsDataframe(coordinates, dates, shift_dates=SHIFT_RECORDS, shift_coordinates=0):\n",
    "    random_rows_list = []\n",
    "    storms_file = open(\"data files/storms_{}.txt\".format(storm_wind_speed), \"r\")\n",
    "    index = 0\n",
    "    for line in storms_file:\n",
    "        if index % 50000 == 0:\n",
    "            print(index)\n",
    "        cur_storm = list(map(int, line.split()))\n",
    "        i, j = cur_storm[2], cur_storm[3]\n",
    "        if i + shift_coordinates >= len(coordinates) or j + shift_dates + SUBSET_LEN > len(dates):\n",
    "            continue\n",
    "        k = 0\n",
    "        while k < SUBSET_LEN and not np.isnan(sea_df.iloc[i + shift_coordinates, j + shift_dates + k]):\n",
    "            k += 1\n",
    "        if k < SUBSET_LEN:\n",
    "            continue\n",
    "        random_rows_list.append([i + shift_coordinates, j + shift_dates])\n",
    "        index += 1\n",
    "\n",
    "    storms_file.close()\n",
    "    return pd.DataFrame(random_rows_list, columns=[\"coordinates_index\", \"start_date_index\"])\n",
    "\n",
    "random_subsets_df = getRandomSubsetsDataframe(coordinates, dates)"
   ]
  },
  {
   "cell_type": "code",
   "execution_count": null,
   "metadata": {},
   "outputs": [],
   "source": [
    "random_subsets_df"
   ]
  },
  {
   "cell_type": "code",
   "execution_count": null,
   "metadata": {},
   "outputs": [],
   "source": [
    "def getMeanSlaDifference(index):\n",
    "    i, j = random_subsets_df.iloc[index, 0], random_subsets_df.iloc[index, 1] # уже сдвинуты\n",
    "    count_storm = random.choices(storm_days_cnt, storm_days_proba)[0] # count_calm = 11 - count_storm \n",
    "\n",
    "    random_storms = np.random.choice(np.arange(SUBSET_LEN), count_storm, replace=False)\n",
    "    random_storms_indexes = np.zeros(SUBSET_LEN, dtype=bool)\n",
    "    random_storms_indexes[random_storms] = True\n",
    "\n",
    "    mean_storm_sla = sea_df.iloc[i, j:j + SUBSET_LEN][random_storms_indexes].mean()\n",
    "    mean_calm_sla = sea_df.iloc[i, j:j + SUBSET_LEN][~random_storms_indexes].mean()\n",
    "    return mean_storm_sla - mean_calm_sla\n",
    "\n",
    "meanSlaDiff = np.vectorize(getMeanSlaDifference)"
   ]
  },
  {
   "cell_type": "code",
   "execution_count": null,
   "metadata": {},
   "outputs": [],
   "source": [
    "tests_number = 1000\n",
    "random_sla_diff = []\n",
    "for i in range(tests_number):\n",
    "    cur_sla_diff = meanSlaDiff(random_subsets_df.index)\n",
    "    random_sla_diff.append(cur_sla_diff) # sla_diff для i-го теста\n",
    "    print(i)"
   ]
  },
  {
   "cell_type": "code",
   "execution_count": null,
   "metadata": {},
   "outputs": [],
   "source": [
    "random_sla_file = open(\"random_sla_diff_{}_{}.txt\".format(storm_wind_speed, SHIFT_RECORDS), \"w\")\n",
    "for i in range(tests_number):\n",
    "    print(\" \".join(map(str, random_sla_diff[i])), file=random_sla_file)\n",
    "random_sla_file.close()\n",
    "random_sla_diff = np.array(random_sla_diff) # shape  = (tests_number, N_subsets)"
   ]
  },
  {
   "cell_type": "code",
   "execution_count": 11,
   "metadata": {},
   "outputs": [],
   "source": [
    "start_a = dict({6.7: 0.05, 10: 0.015, 15: 0.0}) # [start_a, 0.5] с шагом 0.005"
   ]
  },
  {
   "cell_type": "code",
   "execution_count": 12,
   "metadata": {},
   "outputs": [],
   "source": [
    "def getProbabilityDifference(values, a_array): # P[X >= a] - P[X <= -a]\n",
    "    return np.array([((values >= a).sum() - (values <= -a).sum()) / values.size for a in a_array])\n",
    "\n",
    "def getExpectationDifference(values, cur_a, delta): # P[a < X < a + delta] - P[-a - delta < X < -a]\n",
    "    p_plus_a = ((values >= cur_a) & (values <= cur_a + delta)).sum() / values.size\n",
    "    p_minus_a =((values >= -cur_a - delta) & (values <= -cur_a)).sum() / values.size\n",
    "    return p_plus_a - p_minus_a\n",
    "\n",
    "def findExpectation(values, a): # sum_{a} a_i \\cdot \\Delta p(a)\n",
    "    expectation = 0.0\n",
    "    for i in range(len(a) - 1):\n",
    "        expectation += a[i] * getExpectationDifference(values, a[i], a[i + 1] - a[i])\n",
    "    return expectation"
   ]
  },
  {
   "cell_type": "code",
   "execution_count": null,
   "metadata": {},
   "outputs": [],
   "source": [
    "for storm_wind in (6.7, 10, 15):\n",
    "    shift = 16\n",
    "    read_file_name = \"data files/random_sla_diff_{}_{}.txt\".format(storm_wind, shift)\n",
    "    read_file = open(read_file_name, \"r\")\n",
    "    write_random_expectations = open(\"data files/random_exp_{}_{}.txt\".format(storm_wind, shift), \"w\")\n",
    "    write_random_proba_diff = open(\"data files/random_proba_{}_{}.txt\".format(storm_wind, shift), \"w\")\n",
    "\n",
    "    a = np.arange(start_a[storm_wind], 0.5001, 0.005)\n",
    "    for line in read_file:\n",
    "        cur_sla_diff = np.array(list(map(float, line.split())))\n",
    "        print(findExpectation(cur_sla_diff, a), file=write_random_expectations)\n",
    "        print(\" \".join(map(str, getProbabilityDifference(cur_sla_diff, a))), \n",
    "              file=write_random_proba_diff)\n",
    "\n",
    "    read_file.close()\n",
    "    write_random_expectations.close()\n",
    "    write_random_proba_diff.close()\n",
    "    print(\"Done: storm wind speed =\", storm_wind)"
   ]
  },
  {
   "cell_type": "code",
   "execution_count": 19,
   "metadata": {},
   "outputs": [],
   "source": [
    "abs_max_dict = dict({6.7: 1.2519796221428572, 10: 0.8886879635714285, 15: 0.6027853860714285})"
   ]
  },
  {
   "cell_type": "code",
   "execution_count": 20,
   "metadata": {},
   "outputs": [],
   "source": [
    "def PrintSlaDiffHist(sla_diff, storm_wind):\n",
    "    abs_max = abs_max_dict[storm_wind]\n",
    "    n_bins = 200\n",
    "    (y, bins, _) = plt.hist(sla_diff, bins=n_bins, density=True, range=(-abs_max, abs_max), color=\"xkcd:maroon\")\n",
    "    x = np.array([(bins[i + 1] + bins[i]) / 2 for i in range(len(bins) - 1)])\n",
    "    return x, y\n",
    "\n",
    "def GetSlaErrorExpectation(sla_diff, storm_wind):\n",
    "    x, y = PrintSlaDiffHist(sla_diff, storm_wind)\n",
    "    test_x = x[(x >= 0) & (x <= 0.4)]\n",
    "    test_red = y[(x >= 0) & (x <= 0.4)]\n",
    "    test_x_reverse = np.flip(x[(x < 0) & (x >= -0.4)])\n",
    "    test_blue_reverse = np.flip(y[(x < 0) & (x >= -0.4)])\n",
    "\n",
    "    eps = 1e-15\n",
    "    mean_y = []\n",
    "    for i in range(2, len(test_x) - 2):\n",
    "        sla_diff_expectation = 0.0\n",
    "        sum_density = 0.0\n",
    "        for j in range(i - 2, i + 3):\n",
    "            sla_diff_expectation += (test_red[j] - test_blue_reverse[j]) * test_x[j]\n",
    "            sum_density += test_red[j] + test_blue_reverse[j]\n",
    "        mean_y.append(sla_diff_expectation / sum_density)\n",
    "    return mean_y"
   ]
  },
  {
   "cell_type": "code",
   "execution_count": null,
   "metadata": {},
   "outputs": [],
   "source": [
    "shift = 16\n",
    "for storm_wind in [15]:\n",
    "    read_file_name = \"data files/random_sla_diff_{}_{}.txt\".format(storm_wind, shift)\n",
    "    read_file = open(read_file_name, \"r\")\n",
    "        \n",
    "    write_sla_error = open(\"data files/random_sla_error_{}.txt\".format(storm_wind), \"w\")\n",
    "    cnt = 0\n",
    "    for line in read_file:\n",
    "        sla_diff = np.array(list(map(float, line.split())))\n",
    "        sla_error = GetSlaErrorExpectation(sla_diff, storm_wind)\n",
    "        print(\" \".join(map(str, sla_error)), file=write_sla_error)\n",
    "        cnt += 1\n",
    "        print(cnt, len(sla_error))\n",
    "        \n",
    "    write_sla_error.close()\n",
    "    read_file.close()\n",
    "    print(\"Done: storm wind speed =\", storm_wind)"
   ]
  },
  {
   "cell_type": "code",
   "execution_count": null,
   "metadata": {},
   "outputs": [],
   "source": []
  }
 ],
 "metadata": {
  "kernelspec": {
   "display_name": "Python 3",
   "language": "python",
   "name": "python3"
  },
  "language_info": {
   "codemirror_mode": {
    "name": "ipython",
    "version": 3
   },
   "file_extension": ".py",
   "mimetype": "text/x-python",
   "name": "python",
   "nbconvert_exporter": "python",
   "pygments_lexer": "ipython3",
   "version": "3.6.10"
  }
 },
 "nbformat": 4,
 "nbformat_minor": 4
}
